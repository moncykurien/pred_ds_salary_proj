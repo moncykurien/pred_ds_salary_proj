{
 "cells": [
  {
   "cell_type": "code",
   "execution_count": 1,
   "metadata": {},
   "outputs": [],
   "source": [
    "import pandas as pd\n",
    "import matplotlib.pyplot as plt\n",
    "import seaborn as sns"
   ]
  },
  {
   "cell_type": "code",
   "execution_count": 7,
   "metadata": {},
   "outputs": [
    {
     "data": {
      "text/html": [
       "<div>\n",
       "<style scoped>\n",
       "    .dataframe tbody tr th:only-of-type {\n",
       "        vertical-align: middle;\n",
       "    }\n",
       "\n",
       "    .dataframe tbody tr th {\n",
       "        vertical-align: top;\n",
       "    }\n",
       "\n",
       "    .dataframe thead th {\n",
       "        text-align: right;\n",
       "    }\n",
       "</style>\n",
       "<table border=\"1\" class=\"dataframe\">\n",
       "  <thead>\n",
       "    <tr style=\"text-align: right;\">\n",
       "      <th></th>\n",
       "      <th>Unnamed: 0</th>\n",
       "      <th>Job Title</th>\n",
       "      <th>Salary Estimate</th>\n",
       "      <th>Job Description</th>\n",
       "      <th>Rating</th>\n",
       "      <th>Company Name</th>\n",
       "      <th>Location</th>\n",
       "      <th>Headquarters</th>\n",
       "      <th>Size</th>\n",
       "      <th>Founded</th>\n",
       "      <th>...</th>\n",
       "      <th>state</th>\n",
       "      <th>age_of_company</th>\n",
       "      <th>python_skill</th>\n",
       "      <th>sql_skill</th>\n",
       "      <th>r_studio_skill</th>\n",
       "      <th>spark_skill</th>\n",
       "      <th>excel_skill</th>\n",
       "      <th>aws_skill</th>\n",
       "      <th>azure_skill</th>\n",
       "      <th>gcp_skill</th>\n",
       "    </tr>\n",
       "  </thead>\n",
       "  <tbody>\n",
       "    <tr>\n",
       "      <th>0</th>\n",
       "      <td>0</td>\n",
       "      <td>Data Scientist</td>\n",
       "      <td>$100K - $160K (Glassdoor est.)</td>\n",
       "      <td>Are you passionate about providing real impact...</td>\n",
       "      <td>4.7</td>\n",
       "      <td>Johns Hopkins Applied Physics Laboratory (APL)...</td>\n",
       "      <td>Laurel, MD</td>\n",
       "      <td>-1</td>\n",
       "      <td>5001 to 10000 Employees</td>\n",
       "      <td>1942</td>\n",
       "      <td>...</td>\n",
       "      <td>MD</td>\n",
       "      <td>79</td>\n",
       "      <td>1</td>\n",
       "      <td>0</td>\n",
       "      <td>0</td>\n",
       "      <td>0</td>\n",
       "      <td>1</td>\n",
       "      <td>0</td>\n",
       "      <td>0</td>\n",
       "      <td>0</td>\n",
       "    </tr>\n",
       "    <tr>\n",
       "      <th>1</th>\n",
       "      <td>1</td>\n",
       "      <td>Principal Data Scientist</td>\n",
       "      <td>$104K - $170K (Glassdoor est.)</td>\n",
       "      <td>Working out of our Chevy Chase, MD/Washington ...</td>\n",
       "      <td>3.5</td>\n",
       "      <td>GEICO\\n3.5</td>\n",
       "      <td>Chevy Chase, MD</td>\n",
       "      <td>-1</td>\n",
       "      <td>10000+ Employees</td>\n",
       "      <td>1936</td>\n",
       "      <td>...</td>\n",
       "      <td>MD</td>\n",
       "      <td>85</td>\n",
       "      <td>1</td>\n",
       "      <td>0</td>\n",
       "      <td>0</td>\n",
       "      <td>0</td>\n",
       "      <td>1</td>\n",
       "      <td>0</td>\n",
       "      <td>0</td>\n",
       "      <td>0</td>\n",
       "    </tr>\n",
       "    <tr>\n",
       "      <th>2</th>\n",
       "      <td>2</td>\n",
       "      <td>Principal Data Scientist</td>\n",
       "      <td>$104K - $170K (Glassdoor est.)</td>\n",
       "      <td>Working out of our Chevy Chase, MD/Washington ...</td>\n",
       "      <td>3.5</td>\n",
       "      <td>GEICO\\n3.5</td>\n",
       "      <td>Chevy Chase, MD</td>\n",
       "      <td>-1</td>\n",
       "      <td>-1</td>\n",
       "      <td>-1</td>\n",
       "      <td>...</td>\n",
       "      <td>MD</td>\n",
       "      <td>-1</td>\n",
       "      <td>1</td>\n",
       "      <td>0</td>\n",
       "      <td>0</td>\n",
       "      <td>0</td>\n",
       "      <td>1</td>\n",
       "      <td>0</td>\n",
       "      <td>0</td>\n",
       "      <td>0</td>\n",
       "    </tr>\n",
       "    <tr>\n",
       "      <th>3</th>\n",
       "      <td>3</td>\n",
       "      <td>Operations Data Analyst</td>\n",
       "      <td>$36K - $62K (Glassdoor est.)</td>\n",
       "      <td>Make your mark. With more than $17.2 billion o...</td>\n",
       "      <td>4.0</td>\n",
       "      <td>Plante Moran\\n4.0</td>\n",
       "      <td>Kalamazoo, MI</td>\n",
       "      <td>-1</td>\n",
       "      <td>1001 to 5000 Employees</td>\n",
       "      <td>1924</td>\n",
       "      <td>...</td>\n",
       "      <td>MI</td>\n",
       "      <td>97</td>\n",
       "      <td>0</td>\n",
       "      <td>0</td>\n",
       "      <td>0</td>\n",
       "      <td>0</td>\n",
       "      <td>1</td>\n",
       "      <td>0</td>\n",
       "      <td>0</td>\n",
       "      <td>0</td>\n",
       "    </tr>\n",
       "    <tr>\n",
       "      <th>4</th>\n",
       "      <td>6</td>\n",
       "      <td>HCM Data Analyst</td>\n",
       "      <td>$55K - $94K (Glassdoor est.)</td>\n",
       "      <td>Any qualified individual with a disability who...</td>\n",
       "      <td>3.1</td>\n",
       "      <td>Austal USA\\n3.1</td>\n",
       "      <td>Mobile, AL</td>\n",
       "      <td>-1</td>\n",
       "      <td>1001 to 5000 Employees</td>\n",
       "      <td>1988</td>\n",
       "      <td>...</td>\n",
       "      <td>AL</td>\n",
       "      <td>33</td>\n",
       "      <td>0</td>\n",
       "      <td>0</td>\n",
       "      <td>0</td>\n",
       "      <td>0</td>\n",
       "      <td>1</td>\n",
       "      <td>0</td>\n",
       "      <td>0</td>\n",
       "      <td>0</td>\n",
       "    </tr>\n",
       "  </tbody>\n",
       "</table>\n",
       "<p>5 rows × 30 columns</p>\n",
       "</div>"
      ],
      "text/plain": [
       "   Unnamed: 0                 Job Title                 Salary Estimate  \\\n",
       "0           0            Data Scientist  $100K - $160K (Glassdoor est.)   \n",
       "1           1  Principal Data Scientist  $104K - $170K (Glassdoor est.)   \n",
       "2           2  Principal Data Scientist  $104K - $170K (Glassdoor est.)   \n",
       "3           3   Operations Data Analyst    $36K - $62K (Glassdoor est.)   \n",
       "4           6          HCM Data Analyst    $55K - $94K (Glassdoor est.)   \n",
       "\n",
       "                                     Job Description  Rating  \\\n",
       "0  Are you passionate about providing real impact...     4.7   \n",
       "1  Working out of our Chevy Chase, MD/Washington ...     3.5   \n",
       "2  Working out of our Chevy Chase, MD/Washington ...     3.5   \n",
       "3  Make your mark. With more than $17.2 billion o...     4.0   \n",
       "4  Any qualified individual with a disability who...     3.1   \n",
       "\n",
       "                                        Company Name         Location  \\\n",
       "0  Johns Hopkins Applied Physics Laboratory (APL)...       Laurel, MD   \n",
       "1                                         GEICO\\n3.5  Chevy Chase, MD   \n",
       "2                                         GEICO\\n3.5  Chevy Chase, MD   \n",
       "3                                  Plante Moran\\n4.0    Kalamazoo, MI   \n",
       "4                                    Austal USA\\n3.1       Mobile, AL   \n",
       "\n",
       "   Headquarters                     Size  Founded  ... state age_of_company  \\\n",
       "0            -1  5001 to 10000 Employees     1942  ...    MD             79   \n",
       "1            -1         10000+ Employees     1936  ...    MD             85   \n",
       "2            -1                       -1       -1  ...    MD             -1   \n",
       "3            -1   1001 to 5000 Employees     1924  ...    MI             97   \n",
       "4            -1   1001 to 5000 Employees     1988  ...    AL             33   \n",
       "\n",
       "  python_skill sql_skill  r_studio_skill  spark_skill  excel_skill  aws_skill  \\\n",
       "0            1         0               0            0            1          0   \n",
       "1            1         0               0            0            1          0   \n",
       "2            1         0               0            0            1          0   \n",
       "3            0         0               0            0            1          0   \n",
       "4            0         0               0            0            1          0   \n",
       "\n",
       "   azure_skill gcp_skill  \n",
       "0            0         0  \n",
       "1            0         0  \n",
       "2            0         0  \n",
       "3            0         0  \n",
       "4            0         0  \n",
       "\n",
       "[5 rows x 30 columns]"
      ]
     },
     "execution_count": 7,
     "metadata": {},
     "output_type": "execute_result"
    }
   ],
   "source": [
    "df = pd.read_csv('x:/LAB/MachineLearning/KenLee/pred_ds_salary_proj/apps/data/training_data_cleaned/cleaned_training_data.csv')\n",
    "df.head()"
   ]
  },
  {
   "cell_type": "code",
   "execution_count": 8,
   "metadata": {},
   "outputs": [
    {
     "data": {
      "text/plain": [
       "(664, 30)"
      ]
     },
     "execution_count": 8,
     "metadata": {},
     "output_type": "execute_result"
    }
   ],
   "source": [
    "df.shape"
   ]
  },
  {
   "cell_type": "code",
   "execution_count": 10,
   "metadata": {},
   "outputs": [
    {
     "data": {
      "text/plain": [
       "Index(['Unnamed: 0', 'Job Title', 'Salary Estimate', 'Job Description',\n",
       "       'Rating', 'Company Name', 'Location', 'Headquarters', 'Size', 'Founded',\n",
       "       'Type of ownership', 'Industry', 'Sector', 'Revenue', 'Competitors',\n",
       "       'hourly', 'min_salary', 'max_salary', 'avg_salary', 'company_txt',\n",
       "       'state', 'age_of_company', 'python_skill', 'sql_skill',\n",
       "       'r_studio_skill', 'spark_skill', 'excel_skill', 'aws_skill',\n",
       "       'azure_skill', 'gcp_skill'],\n",
       "      dtype='object')"
      ]
     },
     "execution_count": 10,
     "metadata": {},
     "output_type": "execute_result"
    }
   ],
   "source": [
    "df.columns\n"
   ]
  },
  {
   "cell_type": "code",
   "execution_count": 14,
   "metadata": {},
   "outputs": [],
   "source": [
    "def simplify_title(title):\n",
    "    if 'scientist' in title.lower():\n",
    "        return 'data scientist'\n",
    "    elif 'analyst' in title.lower():\n",
    "        return 'data analyst'\n",
    "    elif 'data engineer' in title.lower():\n",
    "        return 'data engineer'\n",
    "    elif 'architect' in title.lower():\n",
    "        return 'architect'\n",
    "    elif 'consultant' in title.lower():\n",
    "        return 'consultant'\n",
    "    elif 'machine learning' in title.lower():\n",
    "        return 'mle'\n",
    "    elif 'manager' in title.lower():\n",
    "        return 'manager'\n",
    "    elif' director' in title.lower():\n",
    "        return 'director'\n",
    "    else:\n",
    "        return 'na'\n",
    "    \n",
    "def simplify_seniority(title):\n",
    "    if 'sr' in title.lower() or 'senior' in title.lower() or 'lead' in title.lower() or 'principal' in title.lower():\n",
    "        return 'sr'\n",
    "    elif 'jr' in title.lower():\n",
    "        return 'jr'\n",
    "    elif 'intern' in title.lower():\n",
    "        return 'int'\n",
    "    else:\n",
    "        return 'na'"
   ]
  },
  {
   "cell_type": "code",
   "execution_count": 15,
   "metadata": {},
   "outputs": [
    {
     "data": {
      "text/plain": [
       "data scientist    511\n",
       "data analyst       89\n",
       "data engineer      29\n",
       "mle                12\n",
       "na                  8\n",
       "consultant          6\n",
       "manager             6\n",
       "architect           2\n",
       "director            1\n",
       "Name: smpl_job_title, dtype: int64"
      ]
     },
     "execution_count": 15,
     "metadata": {},
     "output_type": "execute_result"
    }
   ],
   "source": [
    "df['smpl_job_title'] = df['Job Title'].apply(simplify_title)\n",
    "df['smpl_job_title'].value_counts()"
   ]
  },
  {
   "cell_type": "code",
   "execution_count": 16,
   "metadata": {},
   "outputs": [
    {
     "data": {
      "text/plain": [
       "na    574\n",
       "sr     90\n",
       "Name: level, dtype: int64"
      ]
     },
     "execution_count": 16,
     "metadata": {},
     "output_type": "execute_result"
    }
   ],
   "source": [
    "df['level'] = df['Job Title'].apply(simplify_seniority)\n",
    "df['level'].value_counts()"
   ]
  },
  {
   "cell_type": "code",
   "execution_count": 17,
   "metadata": {},
   "outputs": [
    {
     "data": {
      "text/html": [
       "<div>\n",
       "<style scoped>\n",
       "    .dataframe tbody tr th:only-of-type {\n",
       "        vertical-align: middle;\n",
       "    }\n",
       "\n",
       "    .dataframe tbody tr th {\n",
       "        vertical-align: top;\n",
       "    }\n",
       "\n",
       "    .dataframe thead th {\n",
       "        text-align: right;\n",
       "    }\n",
       "</style>\n",
       "<table border=\"1\" class=\"dataframe\">\n",
       "  <thead>\n",
       "    <tr style=\"text-align: right;\">\n",
       "      <th></th>\n",
       "      <th>Unnamed: 0</th>\n",
       "      <th>Job Title</th>\n",
       "      <th>Salary Estimate</th>\n",
       "      <th>Job Description</th>\n",
       "      <th>Rating</th>\n",
       "      <th>Company Name</th>\n",
       "      <th>Location</th>\n",
       "      <th>Headquarters</th>\n",
       "      <th>Size</th>\n",
       "      <th>Founded</th>\n",
       "      <th>...</th>\n",
       "      <th>python_skill</th>\n",
       "      <th>sql_skill</th>\n",
       "      <th>r_studio_skill</th>\n",
       "      <th>spark_skill</th>\n",
       "      <th>excel_skill</th>\n",
       "      <th>aws_skill</th>\n",
       "      <th>azure_skill</th>\n",
       "      <th>gcp_skill</th>\n",
       "      <th>smpl_job_title</th>\n",
       "      <th>level</th>\n",
       "    </tr>\n",
       "  </thead>\n",
       "  <tbody>\n",
       "    <tr>\n",
       "      <th>0</th>\n",
       "      <td>0</td>\n",
       "      <td>Data Scientist</td>\n",
       "      <td>$100K - $160K (Glassdoor est.)</td>\n",
       "      <td>Are you passionate about providing real impact...</td>\n",
       "      <td>4.7</td>\n",
       "      <td>Johns Hopkins Applied Physics Laboratory (APL)...</td>\n",
       "      <td>Laurel, MD</td>\n",
       "      <td>-1</td>\n",
       "      <td>5001 to 10000 Employees</td>\n",
       "      <td>1942</td>\n",
       "      <td>...</td>\n",
       "      <td>1</td>\n",
       "      <td>0</td>\n",
       "      <td>0</td>\n",
       "      <td>0</td>\n",
       "      <td>1</td>\n",
       "      <td>0</td>\n",
       "      <td>0</td>\n",
       "      <td>0</td>\n",
       "      <td>data scientist</td>\n",
       "      <td>na</td>\n",
       "    </tr>\n",
       "    <tr>\n",
       "      <th>1</th>\n",
       "      <td>1</td>\n",
       "      <td>Principal Data Scientist</td>\n",
       "      <td>$104K - $170K (Glassdoor est.)</td>\n",
       "      <td>Working out of our Chevy Chase, MD/Washington ...</td>\n",
       "      <td>3.5</td>\n",
       "      <td>GEICO\\n3.5</td>\n",
       "      <td>Chevy Chase, MD</td>\n",
       "      <td>-1</td>\n",
       "      <td>10000+ Employees</td>\n",
       "      <td>1936</td>\n",
       "      <td>...</td>\n",
       "      <td>1</td>\n",
       "      <td>0</td>\n",
       "      <td>0</td>\n",
       "      <td>0</td>\n",
       "      <td>1</td>\n",
       "      <td>0</td>\n",
       "      <td>0</td>\n",
       "      <td>0</td>\n",
       "      <td>data scientist</td>\n",
       "      <td>sr</td>\n",
       "    </tr>\n",
       "    <tr>\n",
       "      <th>2</th>\n",
       "      <td>2</td>\n",
       "      <td>Principal Data Scientist</td>\n",
       "      <td>$104K - $170K (Glassdoor est.)</td>\n",
       "      <td>Working out of our Chevy Chase, MD/Washington ...</td>\n",
       "      <td>3.5</td>\n",
       "      <td>GEICO\\n3.5</td>\n",
       "      <td>Chevy Chase, MD</td>\n",
       "      <td>-1</td>\n",
       "      <td>-1</td>\n",
       "      <td>-1</td>\n",
       "      <td>...</td>\n",
       "      <td>1</td>\n",
       "      <td>0</td>\n",
       "      <td>0</td>\n",
       "      <td>0</td>\n",
       "      <td>1</td>\n",
       "      <td>0</td>\n",
       "      <td>0</td>\n",
       "      <td>0</td>\n",
       "      <td>data scientist</td>\n",
       "      <td>sr</td>\n",
       "    </tr>\n",
       "    <tr>\n",
       "      <th>3</th>\n",
       "      <td>3</td>\n",
       "      <td>Operations Data Analyst</td>\n",
       "      <td>$36K - $62K (Glassdoor est.)</td>\n",
       "      <td>Make your mark. With more than $17.2 billion o...</td>\n",
       "      <td>4.0</td>\n",
       "      <td>Plante Moran\\n4.0</td>\n",
       "      <td>Kalamazoo, MI</td>\n",
       "      <td>-1</td>\n",
       "      <td>1001 to 5000 Employees</td>\n",
       "      <td>1924</td>\n",
       "      <td>...</td>\n",
       "      <td>0</td>\n",
       "      <td>0</td>\n",
       "      <td>0</td>\n",
       "      <td>0</td>\n",
       "      <td>1</td>\n",
       "      <td>0</td>\n",
       "      <td>0</td>\n",
       "      <td>0</td>\n",
       "      <td>data analyst</td>\n",
       "      <td>na</td>\n",
       "    </tr>\n",
       "    <tr>\n",
       "      <th>4</th>\n",
       "      <td>6</td>\n",
       "      <td>HCM Data Analyst</td>\n",
       "      <td>$55K - $94K (Glassdoor est.)</td>\n",
       "      <td>Any qualified individual with a disability who...</td>\n",
       "      <td>3.1</td>\n",
       "      <td>Austal USA\\n3.1</td>\n",
       "      <td>Mobile, AL</td>\n",
       "      <td>-1</td>\n",
       "      <td>1001 to 5000 Employees</td>\n",
       "      <td>1988</td>\n",
       "      <td>...</td>\n",
       "      <td>0</td>\n",
       "      <td>0</td>\n",
       "      <td>0</td>\n",
       "      <td>0</td>\n",
       "      <td>1</td>\n",
       "      <td>0</td>\n",
       "      <td>0</td>\n",
       "      <td>0</td>\n",
       "      <td>data analyst</td>\n",
       "      <td>na</td>\n",
       "    </tr>\n",
       "  </tbody>\n",
       "</table>\n",
       "<p>5 rows × 32 columns</p>\n",
       "</div>"
      ],
      "text/plain": [
       "   Unnamed: 0                 Job Title                 Salary Estimate  \\\n",
       "0           0            Data Scientist  $100K - $160K (Glassdoor est.)   \n",
       "1           1  Principal Data Scientist  $104K - $170K (Glassdoor est.)   \n",
       "2           2  Principal Data Scientist  $104K - $170K (Glassdoor est.)   \n",
       "3           3   Operations Data Analyst    $36K - $62K (Glassdoor est.)   \n",
       "4           6          HCM Data Analyst    $55K - $94K (Glassdoor est.)   \n",
       "\n",
       "                                     Job Description  Rating  \\\n",
       "0  Are you passionate about providing real impact...     4.7   \n",
       "1  Working out of our Chevy Chase, MD/Washington ...     3.5   \n",
       "2  Working out of our Chevy Chase, MD/Washington ...     3.5   \n",
       "3  Make your mark. With more than $17.2 billion o...     4.0   \n",
       "4  Any qualified individual with a disability who...     3.1   \n",
       "\n",
       "                                        Company Name         Location  \\\n",
       "0  Johns Hopkins Applied Physics Laboratory (APL)...       Laurel, MD   \n",
       "1                                         GEICO\\n3.5  Chevy Chase, MD   \n",
       "2                                         GEICO\\n3.5  Chevy Chase, MD   \n",
       "3                                  Plante Moran\\n4.0    Kalamazoo, MI   \n",
       "4                                    Austal USA\\n3.1       Mobile, AL   \n",
       "\n",
       "   Headquarters                     Size  Founded  ... python_skill sql_skill  \\\n",
       "0            -1  5001 to 10000 Employees     1942  ...            1         0   \n",
       "1            -1         10000+ Employees     1936  ...            1         0   \n",
       "2            -1                       -1       -1  ...            1         0   \n",
       "3            -1   1001 to 5000 Employees     1924  ...            0         0   \n",
       "4            -1   1001 to 5000 Employees     1988  ...            0         0   \n",
       "\n",
       "  r_studio_skill spark_skill  excel_skill  aws_skill  azure_skill  gcp_skill  \\\n",
       "0              0           0            1          0            0          0   \n",
       "1              0           0            1          0            0          0   \n",
       "2              0           0            1          0            0          0   \n",
       "3              0           0            1          0            0          0   \n",
       "4              0           0            1          0            0          0   \n",
       "\n",
       "   smpl_job_title level  \n",
       "0  data scientist    na  \n",
       "1  data scientist    sr  \n",
       "2  data scientist    sr  \n",
       "3    data analyst    na  \n",
       "4    data analyst    na  \n",
       "\n",
       "[5 rows x 32 columns]"
      ]
     },
     "execution_count": 17,
     "metadata": {},
     "output_type": "execute_result"
    }
   ],
   "source": [
    "df.head()"
   ]
  },
  {
   "cell_type": "code",
   "execution_count": 18,
   "metadata": {},
   "outputs": [],
   "source": [
    "df.drop(['Unnamed: 0'], axis=1, inplace=True)"
   ]
  },
  {
   "cell_type": "code",
   "execution_count": 19,
   "metadata": {},
   "outputs": [
    {
     "data": {
      "text/html": [
       "<div>\n",
       "<style scoped>\n",
       "    .dataframe tbody tr th:only-of-type {\n",
       "        vertical-align: middle;\n",
       "    }\n",
       "\n",
       "    .dataframe tbody tr th {\n",
       "        vertical-align: top;\n",
       "    }\n",
       "\n",
       "    .dataframe thead th {\n",
       "        text-align: right;\n",
       "    }\n",
       "</style>\n",
       "<table border=\"1\" class=\"dataframe\">\n",
       "  <thead>\n",
       "    <tr style=\"text-align: right;\">\n",
       "      <th></th>\n",
       "      <th>Job Title</th>\n",
       "      <th>Salary Estimate</th>\n",
       "      <th>Job Description</th>\n",
       "      <th>Rating</th>\n",
       "      <th>Company Name</th>\n",
       "      <th>Location</th>\n",
       "      <th>Headquarters</th>\n",
       "      <th>Size</th>\n",
       "      <th>Founded</th>\n",
       "      <th>Type of ownership</th>\n",
       "      <th>...</th>\n",
       "      <th>python_skill</th>\n",
       "      <th>sql_skill</th>\n",
       "      <th>r_studio_skill</th>\n",
       "      <th>spark_skill</th>\n",
       "      <th>excel_skill</th>\n",
       "      <th>aws_skill</th>\n",
       "      <th>azure_skill</th>\n",
       "      <th>gcp_skill</th>\n",
       "      <th>smpl_job_title</th>\n",
       "      <th>level</th>\n",
       "    </tr>\n",
       "  </thead>\n",
       "  <tbody>\n",
       "    <tr>\n",
       "      <th>0</th>\n",
       "      <td>Data Scientist</td>\n",
       "      <td>$100K - $160K (Glassdoor est.)</td>\n",
       "      <td>Are you passionate about providing real impact...</td>\n",
       "      <td>4.7</td>\n",
       "      <td>Johns Hopkins Applied Physics Laboratory (APL)...</td>\n",
       "      <td>Laurel, MD</td>\n",
       "      <td>-1</td>\n",
       "      <td>5001 to 10000 Employees</td>\n",
       "      <td>1942</td>\n",
       "      <td>Nonprofit Organization</td>\n",
       "      <td>...</td>\n",
       "      <td>1</td>\n",
       "      <td>0</td>\n",
       "      <td>0</td>\n",
       "      <td>0</td>\n",
       "      <td>1</td>\n",
       "      <td>0</td>\n",
       "      <td>0</td>\n",
       "      <td>0</td>\n",
       "      <td>data scientist</td>\n",
       "      <td>na</td>\n",
       "    </tr>\n",
       "    <tr>\n",
       "      <th>1</th>\n",
       "      <td>Principal Data Scientist</td>\n",
       "      <td>$104K - $170K (Glassdoor est.)</td>\n",
       "      <td>Working out of our Chevy Chase, MD/Washington ...</td>\n",
       "      <td>3.5</td>\n",
       "      <td>GEICO\\n3.5</td>\n",
       "      <td>Chevy Chase, MD</td>\n",
       "      <td>-1</td>\n",
       "      <td>10000+ Employees</td>\n",
       "      <td>1936</td>\n",
       "      <td>Subsidiary or Business Segment</td>\n",
       "      <td>...</td>\n",
       "      <td>1</td>\n",
       "      <td>0</td>\n",
       "      <td>0</td>\n",
       "      <td>0</td>\n",
       "      <td>1</td>\n",
       "      <td>0</td>\n",
       "      <td>0</td>\n",
       "      <td>0</td>\n",
       "      <td>data scientist</td>\n",
       "      <td>sr</td>\n",
       "    </tr>\n",
       "    <tr>\n",
       "      <th>2</th>\n",
       "      <td>Principal Data Scientist</td>\n",
       "      <td>$104K - $170K (Glassdoor est.)</td>\n",
       "      <td>Working out of our Chevy Chase, MD/Washington ...</td>\n",
       "      <td>3.5</td>\n",
       "      <td>GEICO\\n3.5</td>\n",
       "      <td>Chevy Chase, MD</td>\n",
       "      <td>-1</td>\n",
       "      <td>-1</td>\n",
       "      <td>-1</td>\n",
       "      <td>-1</td>\n",
       "      <td>...</td>\n",
       "      <td>1</td>\n",
       "      <td>0</td>\n",
       "      <td>0</td>\n",
       "      <td>0</td>\n",
       "      <td>1</td>\n",
       "      <td>0</td>\n",
       "      <td>0</td>\n",
       "      <td>0</td>\n",
       "      <td>data scientist</td>\n",
       "      <td>sr</td>\n",
       "    </tr>\n",
       "    <tr>\n",
       "      <th>3</th>\n",
       "      <td>Operations Data Analyst</td>\n",
       "      <td>$36K - $62K (Glassdoor est.)</td>\n",
       "      <td>Make your mark. With more than $17.2 billion o...</td>\n",
       "      <td>4.0</td>\n",
       "      <td>Plante Moran\\n4.0</td>\n",
       "      <td>Kalamazoo, MI</td>\n",
       "      <td>-1</td>\n",
       "      <td>1001 to 5000 Employees</td>\n",
       "      <td>1924</td>\n",
       "      <td>Company - Private</td>\n",
       "      <td>...</td>\n",
       "      <td>0</td>\n",
       "      <td>0</td>\n",
       "      <td>0</td>\n",
       "      <td>0</td>\n",
       "      <td>1</td>\n",
       "      <td>0</td>\n",
       "      <td>0</td>\n",
       "      <td>0</td>\n",
       "      <td>data analyst</td>\n",
       "      <td>na</td>\n",
       "    </tr>\n",
       "    <tr>\n",
       "      <th>4</th>\n",
       "      <td>HCM Data Analyst</td>\n",
       "      <td>$55K - $94K (Glassdoor est.)</td>\n",
       "      <td>Any qualified individual with a disability who...</td>\n",
       "      <td>3.1</td>\n",
       "      <td>Austal USA\\n3.1</td>\n",
       "      <td>Mobile, AL</td>\n",
       "      <td>-1</td>\n",
       "      <td>1001 to 5000 Employees</td>\n",
       "      <td>1988</td>\n",
       "      <td>Company - Public</td>\n",
       "      <td>...</td>\n",
       "      <td>0</td>\n",
       "      <td>0</td>\n",
       "      <td>0</td>\n",
       "      <td>0</td>\n",
       "      <td>1</td>\n",
       "      <td>0</td>\n",
       "      <td>0</td>\n",
       "      <td>0</td>\n",
       "      <td>data analyst</td>\n",
       "      <td>na</td>\n",
       "    </tr>\n",
       "  </tbody>\n",
       "</table>\n",
       "<p>5 rows × 31 columns</p>\n",
       "</div>"
      ],
      "text/plain": [
       "                  Job Title                 Salary Estimate  \\\n",
       "0            Data Scientist  $100K - $160K (Glassdoor est.)   \n",
       "1  Principal Data Scientist  $104K - $170K (Glassdoor est.)   \n",
       "2  Principal Data Scientist  $104K - $170K (Glassdoor est.)   \n",
       "3   Operations Data Analyst    $36K - $62K (Glassdoor est.)   \n",
       "4          HCM Data Analyst    $55K - $94K (Glassdoor est.)   \n",
       "\n",
       "                                     Job Description  Rating  \\\n",
       "0  Are you passionate about providing real impact...     4.7   \n",
       "1  Working out of our Chevy Chase, MD/Washington ...     3.5   \n",
       "2  Working out of our Chevy Chase, MD/Washington ...     3.5   \n",
       "3  Make your mark. With more than $17.2 billion o...     4.0   \n",
       "4  Any qualified individual with a disability who...     3.1   \n",
       "\n",
       "                                        Company Name         Location  \\\n",
       "0  Johns Hopkins Applied Physics Laboratory (APL)...       Laurel, MD   \n",
       "1                                         GEICO\\n3.5  Chevy Chase, MD   \n",
       "2                                         GEICO\\n3.5  Chevy Chase, MD   \n",
       "3                                  Plante Moran\\n4.0    Kalamazoo, MI   \n",
       "4                                    Austal USA\\n3.1       Mobile, AL   \n",
       "\n",
       "   Headquarters                     Size  Founded  \\\n",
       "0            -1  5001 to 10000 Employees     1942   \n",
       "1            -1         10000+ Employees     1936   \n",
       "2            -1                       -1       -1   \n",
       "3            -1   1001 to 5000 Employees     1924   \n",
       "4            -1   1001 to 5000 Employees     1988   \n",
       "\n",
       "                Type of ownership  ... python_skill sql_skill r_studio_skill  \\\n",
       "0          Nonprofit Organization  ...            1         0              0   \n",
       "1  Subsidiary or Business Segment  ...            1         0              0   \n",
       "2                              -1  ...            1         0              0   \n",
       "3               Company - Private  ...            0         0              0   \n",
       "4                Company - Public  ...            0         0              0   \n",
       "\n",
       "   spark_skill  excel_skill  aws_skill  azure_skill  gcp_skill  \\\n",
       "0            0            1          0            0          0   \n",
       "1            0            1          0            0          0   \n",
       "2            0            1          0            0          0   \n",
       "3            0            1          0            0          0   \n",
       "4            0            1          0            0          0   \n",
       "\n",
       "   smpl_job_title level  \n",
       "0  data scientist    na  \n",
       "1  data scientist    sr  \n",
       "2  data scientist    sr  \n",
       "3    data analyst    na  \n",
       "4    data analyst    na  \n",
       "\n",
       "[5 rows x 31 columns]"
      ]
     },
     "execution_count": 19,
     "metadata": {},
     "output_type": "execute_result"
    }
   ],
   "source": [
    "df.head()"
   ]
  },
  {
   "cell_type": "code",
   "execution_count": 20,
   "metadata": {},
   "outputs": [
    {
     "data": {
      "text/plain": [
       " 3.8    66\n",
       " 3.6    61\n",
       " 3.7    61\n",
       " 4.0    57\n",
       " 3.9    50\n",
       " 4.1    46\n",
       " 4.2    40\n",
       " 3.3    36\n",
       " 3.4    36\n",
       " 4.3    28\n",
       " 3.5    28\n",
       " 3.0    20\n",
       " 3.1    19\n",
       " 4.5    18\n",
       " 3.2    17\n",
       " 4.4    16\n",
       " 4.6    14\n",
       " 4.7    10\n",
       " 4.8     9\n",
       " 4.9     7\n",
       " 5.0     7\n",
       " 2.8     5\n",
       " 2.5     5\n",
       " 2.9     3\n",
       "-1.0     3\n",
       " 2.1     1\n",
       " 2.4     1\n",
       "Name: Rating, dtype: int64"
      ]
     },
     "execution_count": 20,
     "metadata": {},
     "output_type": "execute_result"
    }
   ],
   "source": [
    "df.Rating.value_counts()"
   ]
  },
  {
   "cell_type": "code",
   "execution_count": 21,
   "metadata": {},
   "outputs": [
    {
     "data": {
      "text/plain": [
       "Index(['Job Title', 'Salary Estimate', 'Job Description', 'Rating',\n",
       "       'Company Name', 'Location', 'Headquarters', 'Size', 'Founded',\n",
       "       'Type of ownership', 'Industry', 'Sector', 'Revenue', 'Competitors',\n",
       "       'hourly', 'min_salary', 'max_salary', 'avg_salary', 'company_txt',\n",
       "       'state', 'age_of_company', 'python_skill', 'sql_skill',\n",
       "       'r_studio_skill', 'spark_skill', 'excel_skill', 'aws_skill',\n",
       "       'azure_skill', 'gcp_skill', 'smpl_job_title', 'level'],\n",
       "      dtype='object')"
      ]
     },
     "execution_count": 21,
     "metadata": {},
     "output_type": "execute_result"
    }
   ],
   "source": [
    "df.columns"
   ]
  },
  {
   "cell_type": "code",
   "execution_count": 24,
   "metadata": {},
   "outputs": [],
   "source": [
    "df['company_txt'] = df['company_txt'].apply(lambda x: x.rstrip('\\n'))"
   ]
  },
  {
   "cell_type": "code",
   "execution_count": 26,
   "metadata": {},
   "outputs": [
    {
     "data": {
      "text/plain": [
       "Uline                             10\n",
       "Perspecta                          9\n",
       "FingerPaint Marketing              7\n",
       "Cognizant Technology Solutions     6\n",
       "Apple                              6\n",
       "                                  ..\n",
       "CHEP                               1\n",
       "KeyLogic Systems                   1\n",
       "Savari                             1\n",
       "Rainmaker Resources, LLC           1\n",
       "Noblis                             1\n",
       "Name: company_txt, Length: 389, dtype: int64"
      ]
     },
     "execution_count": 26,
     "metadata": {},
     "output_type": "execute_result"
    }
   ],
   "source": [
    "df.company_txt.value_counts()"
   ]
  },
  {
   "cell_type": "code",
   "execution_count": 27,
   "metadata": {},
   "outputs": [
    {
     "data": {
      "text/plain": [
       "CA    141\n",
       "NY     67\n",
       "VA     52\n",
       "MA     44\n",
       "MD     36\n",
       "TX     34\n",
       "DC     30\n",
       "IL     26\n",
       "PA     22\n",
       "GA     21\n",
       "NC     20\n",
       "NJ     17\n",
       "WA     17\n",
       "FL     15\n",
       "OH     14\n",
       "MO     12\n",
       "WI     12\n",
       "UT     11\n",
       "MN     10\n",
       "MI      7\n",
       "OR      6\n",
       "NE      6\n",
       "CT      5\n",
       "CO      5\n",
       "IN      5\n",
       "TN      5\n",
       "AL      5\n",
       "AR      4\n",
       "NM      3\n",
       "AZ      3\n",
       "KS      2\n",
       "ME      2\n",
       "OK      1\n",
       "RI      1\n",
       "DE      1\n",
       "SC      1\n",
       "KY      1\n",
       "Name: state, dtype: int64"
      ]
     },
     "execution_count": 27,
     "metadata": {},
     "output_type": "execute_result"
    }
   ],
   "source": [
    "df.state.value_counts()"
   ]
  },
  {
   "cell_type": "code",
   "execution_count": 28,
   "metadata": {},
   "outputs": [],
   "source": [
    "#Length of description\n",
    "df['desc_length'] = df['Job Description'].apply(lambda x: len(x))"
   ]
  },
  {
   "cell_type": "code",
   "execution_count": 32,
   "metadata": {},
   "outputs": [
    {
     "data": {
      "text/plain": [
       "array([-1], dtype=int64)"
      ]
     },
     "execution_count": 32,
     "metadata": {},
     "output_type": "execute_result"
    }
   ],
   "source": [
    "df['Competitors'].unique()"
   ]
  },
  {
   "cell_type": "code",
   "execution_count": 33,
   "metadata": {},
   "outputs": [],
   "source": [
    "df['min_salary'] = df.apply(lambda x: x.min_salary * 2 if x.hourly == 1 else x.min_salary, axis = 1)\n",
    "df['max_salary'] = df.apply(lambda x: x.max_salary * 2 if x.hourly == 1 else x.max_salary, axis = 1)\n",
    "df['avg_salary'] = df.apply(lambda x: x.avg_salary * 2 if x.hourly == 1 else x.avg_salary, axis = 1)"
   ]
  },
  {
   "cell_type": "code",
   "execution_count": 34,
   "metadata": {},
   "outputs": [
    {
     "data": {
      "text/html": [
       "<div>\n",
       "<style scoped>\n",
       "    .dataframe tbody tr th:only-of-type {\n",
       "        vertical-align: middle;\n",
       "    }\n",
       "\n",
       "    .dataframe tbody tr th {\n",
       "        vertical-align: top;\n",
       "    }\n",
       "\n",
       "    .dataframe thead th {\n",
       "        text-align: right;\n",
       "    }\n",
       "</style>\n",
       "<table border=\"1\" class=\"dataframe\">\n",
       "  <thead>\n",
       "    <tr style=\"text-align: right;\">\n",
       "      <th></th>\n",
       "      <th>min_salary</th>\n",
       "      <th>max_salary</th>\n",
       "      <th>avg_salary</th>\n",
       "    </tr>\n",
       "  </thead>\n",
       "  <tbody>\n",
       "    <tr>\n",
       "      <th>154</th>\n",
       "      <td>36</td>\n",
       "      <td>50</td>\n",
       "      <td>43.0</td>\n",
       "    </tr>\n",
       "    <tr>\n",
       "      <th>210</th>\n",
       "      <td>36</td>\n",
       "      <td>50</td>\n",
       "      <td>43.0</td>\n",
       "    </tr>\n",
       "    <tr>\n",
       "      <th>265</th>\n",
       "      <td>42</td>\n",
       "      <td>58</td>\n",
       "      <td>50.0</td>\n",
       "    </tr>\n",
       "  </tbody>\n",
       "</table>\n",
       "</div>"
      ],
      "text/plain": [
       "     min_salary  max_salary  avg_salary\n",
       "154          36          50        43.0\n",
       "210          36          50        43.0\n",
       "265          42          58        50.0"
      ]
     },
     "execution_count": 34,
     "metadata": {},
     "output_type": "execute_result"
    }
   ],
   "source": [
    "df[df.hourly==1][['min_salary','max_salary','avg_salary']]"
   ]
  },
  {
   "cell_type": "code",
   "execution_count": 35,
   "metadata": {},
   "outputs": [],
   "source": [
    "df.to_csv('x:/LAB/MachineLearning/KenLee/pred_ds_salary_proj/apps/data/training_data_cleaned/cleaned_training_data_v1.0.csv')"
   ]
  },
  {
   "cell_type": "code",
   "execution_count": 38,
   "metadata": {},
   "outputs": [
    {
     "data": {
      "text/html": [
       "<div>\n",
       "<style scoped>\n",
       "    .dataframe tbody tr th:only-of-type {\n",
       "        vertical-align: middle;\n",
       "    }\n",
       "\n",
       "    .dataframe tbody tr th {\n",
       "        vertical-align: top;\n",
       "    }\n",
       "\n",
       "    .dataframe thead th {\n",
       "        text-align: right;\n",
       "    }\n",
       "</style>\n",
       "<table border=\"1\" class=\"dataframe\">\n",
       "  <thead>\n",
       "    <tr style=\"text-align: right;\">\n",
       "      <th></th>\n",
       "      <th>Rating</th>\n",
       "      <th>Headquarters</th>\n",
       "      <th>Founded</th>\n",
       "      <th>Competitors</th>\n",
       "      <th>hourly</th>\n",
       "      <th>min_salary</th>\n",
       "      <th>max_salary</th>\n",
       "      <th>avg_salary</th>\n",
       "      <th>age_of_company</th>\n",
       "      <th>python_skill</th>\n",
       "      <th>sql_skill</th>\n",
       "      <th>r_studio_skill</th>\n",
       "      <th>spark_skill</th>\n",
       "      <th>excel_skill</th>\n",
       "      <th>aws_skill</th>\n",
       "      <th>azure_skill</th>\n",
       "      <th>gcp_skill</th>\n",
       "      <th>desc_length</th>\n",
       "    </tr>\n",
       "  </thead>\n",
       "  <tbody>\n",
       "    <tr>\n",
       "      <th>count</th>\n",
       "      <td>664.000000</td>\n",
       "      <td>664.0</td>\n",
       "      <td>664.000000</td>\n",
       "      <td>664.0</td>\n",
       "      <td>664.000000</td>\n",
       "      <td>664.000000</td>\n",
       "      <td>664.000000</td>\n",
       "      <td>664.000000</td>\n",
       "      <td>664.000000</td>\n",
       "      <td>664.000000</td>\n",
       "      <td>664.000000</td>\n",
       "      <td>664.000000</td>\n",
       "      <td>664.000000</td>\n",
       "      <td>664.000000</td>\n",
       "      <td>664.000000</td>\n",
       "      <td>664.000000</td>\n",
       "      <td>664.000000</td>\n",
       "      <td>664.000000</td>\n",
       "    </tr>\n",
       "    <tr>\n",
       "      <th>mean</th>\n",
       "      <td>3.796084</td>\n",
       "      <td>-1.0</td>\n",
       "      <td>1805.352410</td>\n",
       "      <td>-1.0</td>\n",
       "      <td>0.004518</td>\n",
       "      <td>77.561747</td>\n",
       "      <td>129.463855</td>\n",
       "      <td>103.512801</td>\n",
       "      <td>41.986446</td>\n",
       "      <td>0.697289</td>\n",
       "      <td>0.634036</td>\n",
       "      <td>0.004518</td>\n",
       "      <td>0.221386</td>\n",
       "      <td>0.510542</td>\n",
       "      <td>0.250000</td>\n",
       "      <td>0.079819</td>\n",
       "      <td>0.052711</td>\n",
       "      <td>4097.746988</td>\n",
       "    </tr>\n",
       "    <tr>\n",
       "      <th>std</th>\n",
       "      <td>0.573300</td>\n",
       "      <td>0.0</td>\n",
       "      <td>555.693443</td>\n",
       "      <td>0.0</td>\n",
       "      <td>0.067115</td>\n",
       "      <td>25.431286</td>\n",
       "      <td>37.350428</td>\n",
       "      <td>31.091885</td>\n",
       "      <td>45.882118</td>\n",
       "      <td>0.459778</td>\n",
       "      <td>0.482063</td>\n",
       "      <td>0.067115</td>\n",
       "      <td>0.415492</td>\n",
       "      <td>0.500266</td>\n",
       "      <td>0.433339</td>\n",
       "      <td>0.271218</td>\n",
       "      <td>0.223624</td>\n",
       "      <td>1607.522860</td>\n",
       "    </tr>\n",
       "    <tr>\n",
       "      <th>min</th>\n",
       "      <td>-1.000000</td>\n",
       "      <td>-1.0</td>\n",
       "      <td>-1.000000</td>\n",
       "      <td>-1.0</td>\n",
       "      <td>0.000000</td>\n",
       "      <td>17.000000</td>\n",
       "      <td>44.000000</td>\n",
       "      <td>33.500000</td>\n",
       "      <td>-1.000000</td>\n",
       "      <td>0.000000</td>\n",
       "      <td>0.000000</td>\n",
       "      <td>0.000000</td>\n",
       "      <td>0.000000</td>\n",
       "      <td>0.000000</td>\n",
       "      <td>0.000000</td>\n",
       "      <td>0.000000</td>\n",
       "      <td>0.000000</td>\n",
       "      <td>65.000000</td>\n",
       "    </tr>\n",
       "    <tr>\n",
       "      <th>25%</th>\n",
       "      <td>3.500000</td>\n",
       "      <td>-1.0</td>\n",
       "      <td>1942.000000</td>\n",
       "      <td>-1.0</td>\n",
       "      <td>0.000000</td>\n",
       "      <td>60.000000</td>\n",
       "      <td>105.000000</td>\n",
       "      <td>83.375000</td>\n",
       "      <td>12.000000</td>\n",
       "      <td>0.000000</td>\n",
       "      <td>0.000000</td>\n",
       "      <td>0.000000</td>\n",
       "      <td>0.000000</td>\n",
       "      <td>0.000000</td>\n",
       "      <td>0.000000</td>\n",
       "      <td>0.000000</td>\n",
       "      <td>0.000000</td>\n",
       "      <td>3042.000000</td>\n",
       "    </tr>\n",
       "    <tr>\n",
       "      <th>50%</th>\n",
       "      <td>3.800000</td>\n",
       "      <td>-1.0</td>\n",
       "      <td>1991.500000</td>\n",
       "      <td>-1.0</td>\n",
       "      <td>0.000000</td>\n",
       "      <td>77.000000</td>\n",
       "      <td>129.000000</td>\n",
       "      <td>102.750000</td>\n",
       "      <td>24.000000</td>\n",
       "      <td>1.000000</td>\n",
       "      <td>1.000000</td>\n",
       "      <td>0.000000</td>\n",
       "      <td>0.000000</td>\n",
       "      <td>1.000000</td>\n",
       "      <td>0.000000</td>\n",
       "      <td>0.000000</td>\n",
       "      <td>0.000000</td>\n",
       "      <td>3935.000000</td>\n",
       "    </tr>\n",
       "    <tr>\n",
       "      <th>75%</th>\n",
       "      <td>4.100000</td>\n",
       "      <td>-1.0</td>\n",
       "      <td>2006.000000</td>\n",
       "      <td>-1.0</td>\n",
       "      <td>0.000000</td>\n",
       "      <td>91.250000</td>\n",
       "      <td>151.000000</td>\n",
       "      <td>121.000000</td>\n",
       "      <td>55.000000</td>\n",
       "      <td>1.000000</td>\n",
       "      <td>1.000000</td>\n",
       "      <td>0.000000</td>\n",
       "      <td>0.000000</td>\n",
       "      <td>1.000000</td>\n",
       "      <td>0.250000</td>\n",
       "      <td>0.000000</td>\n",
       "      <td>0.000000</td>\n",
       "      <td>4852.250000</td>\n",
       "    </tr>\n",
       "    <tr>\n",
       "      <th>max</th>\n",
       "      <td>5.000000</td>\n",
       "      <td>-1.0</td>\n",
       "      <td>2019.000000</td>\n",
       "      <td>-1.0</td>\n",
       "      <td>1.000000</td>\n",
       "      <td>162.000000</td>\n",
       "      <td>258.000000</td>\n",
       "      <td>210.000000</td>\n",
       "      <td>237.000000</td>\n",
       "      <td>1.000000</td>\n",
       "      <td>1.000000</td>\n",
       "      <td>1.000000</td>\n",
       "      <td>1.000000</td>\n",
       "      <td>1.000000</td>\n",
       "      <td>1.000000</td>\n",
       "      <td>1.000000</td>\n",
       "      <td>1.000000</td>\n",
       "      <td>12205.000000</td>\n",
       "    </tr>\n",
       "  </tbody>\n",
       "</table>\n",
       "</div>"
      ],
      "text/plain": [
       "           Rating  Headquarters      Founded  Competitors      hourly  \\\n",
       "count  664.000000         664.0   664.000000        664.0  664.000000   \n",
       "mean     3.796084          -1.0  1805.352410         -1.0    0.004518   \n",
       "std      0.573300           0.0   555.693443          0.0    0.067115   \n",
       "min     -1.000000          -1.0    -1.000000         -1.0    0.000000   \n",
       "25%      3.500000          -1.0  1942.000000         -1.0    0.000000   \n",
       "50%      3.800000          -1.0  1991.500000         -1.0    0.000000   \n",
       "75%      4.100000          -1.0  2006.000000         -1.0    0.000000   \n",
       "max      5.000000          -1.0  2019.000000         -1.0    1.000000   \n",
       "\n",
       "       min_salary  max_salary  avg_salary  age_of_company  python_skill  \\\n",
       "count  664.000000  664.000000  664.000000      664.000000    664.000000   \n",
       "mean    77.561747  129.463855  103.512801       41.986446      0.697289   \n",
       "std     25.431286   37.350428   31.091885       45.882118      0.459778   \n",
       "min     17.000000   44.000000   33.500000       -1.000000      0.000000   \n",
       "25%     60.000000  105.000000   83.375000       12.000000      0.000000   \n",
       "50%     77.000000  129.000000  102.750000       24.000000      1.000000   \n",
       "75%     91.250000  151.000000  121.000000       55.000000      1.000000   \n",
       "max    162.000000  258.000000  210.000000      237.000000      1.000000   \n",
       "\n",
       "        sql_skill  r_studio_skill  spark_skill  excel_skill   aws_skill  \\\n",
       "count  664.000000      664.000000   664.000000   664.000000  664.000000   \n",
       "mean     0.634036        0.004518     0.221386     0.510542    0.250000   \n",
       "std      0.482063        0.067115     0.415492     0.500266    0.433339   \n",
       "min      0.000000        0.000000     0.000000     0.000000    0.000000   \n",
       "25%      0.000000        0.000000     0.000000     0.000000    0.000000   \n",
       "50%      1.000000        0.000000     0.000000     1.000000    0.000000   \n",
       "75%      1.000000        0.000000     0.000000     1.000000    0.250000   \n",
       "max      1.000000        1.000000     1.000000     1.000000    1.000000   \n",
       "\n",
       "       azure_skill   gcp_skill   desc_length  \n",
       "count   664.000000  664.000000    664.000000  \n",
       "mean      0.079819    0.052711   4097.746988  \n",
       "std       0.271218    0.223624   1607.522860  \n",
       "min       0.000000    0.000000     65.000000  \n",
       "25%       0.000000    0.000000   3042.000000  \n",
       "50%       0.000000    0.000000   3935.000000  \n",
       "75%       0.000000    0.000000   4852.250000  \n",
       "max       1.000000    1.000000  12205.000000  "
      ]
     },
     "execution_count": 38,
     "metadata": {},
     "output_type": "execute_result"
    }
   ],
   "source": [
    "df.describe()"
   ]
  },
  {
   "cell_type": "code",
   "execution_count": 44,
   "metadata": {},
   "outputs": [
    {
     "data": {
      "text/plain": [
       "0    498\n",
       "1    166\n",
       "Name: aws_skill, dtype: int64"
      ]
     },
     "execution_count": 44,
     "metadata": {},
     "output_type": "execute_result"
    }
   ],
   "source": [
    "df.aws_skill.value_counts()"
   ]
  },
  {
   "cell_type": "code",
   "execution_count": 45,
   "metadata": {},
   "outputs": [
    {
     "data": {
      "text/plain": [
       "0    611\n",
       "1     53\n",
       "Name: azure_skill, dtype: int64"
      ]
     },
     "execution_count": 45,
     "metadata": {},
     "output_type": "execute_result"
    }
   ],
   "source": [
    "df.azure_skill.value_counts()"
   ]
  },
  {
   "cell_type": "code",
   "execution_count": 46,
   "metadata": {},
   "outputs": [
    {
     "data": {
      "text/plain": [
       "0    517\n",
       "1    147\n",
       "Name: spark_skill, dtype: int64"
      ]
     },
     "execution_count": 46,
     "metadata": {},
     "output_type": "execute_result"
    }
   ],
   "source": [
    "df.spark_skill.value_counts()"
   ]
  },
  {
   "cell_type": "code",
   "execution_count": 56,
   "metadata": {},
   "outputs": [
    {
     "data": {
      "text/plain": [
       "Index(['Job Title', 'Salary Estimate', 'Job Description', 'Rating',\n",
       "       'Company Name', 'Location', 'Headquarters', 'Size', 'Founded',\n",
       "       'Type of ownership', 'Industry', 'Sector', 'Revenue', 'Competitors',\n",
       "       'hourly', 'min_salary', 'max_salary', 'avg_salary', 'company_txt',\n",
       "       'state', 'age_of_company', 'python_skill', 'sql_skill',\n",
       "       'r_studio_skill', 'spark_skill', 'excel_skill', 'aws_skill',\n",
       "       'azure_skill', 'gcp_skill', 'smpl_job_title', 'level', 'desc_length'],\n",
       "      dtype='object')"
      ]
     },
     "execution_count": 56,
     "metadata": {},
     "output_type": "execute_result"
    }
   ],
   "source": [
    "df.columns"
   ]
  },
  {
   "cell_type": "code",
   "execution_count": 58,
   "metadata": {},
   "outputs": [
    {
     "data": {
      "text/plain": [
       "<matplotlib.axes._subplots.AxesSubplot at 0x1f1fd4d2208>"
      ]
     },
     "execution_count": 58,
     "metadata": {},
     "output_type": "execute_result"
    },
    {
     "data": {
      "image/png": "[encoded data removed]",
      "text/plain": [
       "<Figure size 432x288 with 1 Axes>"
      ]
     },
     "metadata": {
      "needs_background": "light"
     },
     "output_type": "display_data"
    }
   ],
   "source": [
    "df.Rating.hist()"
   ]
  },
  {
   "cell_type": "code",
   "execution_count": 60,
   "metadata": {},
   "outputs": [
    {
     "data": {
      "text/plain": [
       "<matplotlib.axes._subplots.AxesSubplot at 0x1f1fda9e148>"
      ]
     },
     "execution_count": 60,
     "metadata": {},
     "output_type": "execute_result"
    },
    {
     "data": {
      "image/png": "[encoded data removed]",
      "text/plain": [
       "<Figure size 432x288 with 1 Axes>"
      ]
     },
     "metadata": {
      "needs_background": "light"
     },
     "output_type": "display_data"
    }
   ],
   "source": [
    "df.min_salary.hist()"
   ]
  },
  {
   "cell_type": "code",
   "execution_count": 61,
   "metadata": {},
   "outputs": [
    {
     "data": {
      "text/plain": [
       "<matplotlib.axes._subplots.AxesSubplot at 0x1f1fd8fb9c8>"
      ]
     },
     "execution_count": 61,
     "metadata": {},
     "output_type": "execute_result"
    },
    {
     "data": {
      "image/png": "[encoded data removed]",
      "text/plain": [
       "<Figure size 432x288 with 1 Axes>"
      ]
     },
     "metadata": {
      "needs_background": "light"
     },
     "output_type": "display_data"
    }
   ],
   "source": [
    "df.max_salary.hist()"
   ]
  },
  {
   "cell_type": "code",
   "execution_count": 62,
   "metadata": {},
   "outputs": [
    {
     "data": {
      "text/plain": [
       "<matplotlib.axes._subplots.AxesSubplot at 0x1f1feef7588>"
      ]
     },
     "execution_count": 62,
     "metadata": {},
     "output_type": "execute_result"
    },
    {
     "data": {
      "image/png": "[encoded data removed]",
      "text/plain": [
       "<Figure size 432x288 with 1 Axes>"
      ]
     },
     "metadata": {
      "needs_background": "light"
     },
     "output_type": "display_data"
    }
   ],
   "source": [
    "df.avg_salary.hist()"
   ]
  },
  {
   "cell_type": "code",
   "execution_count": 63,
   "metadata": {},
   "outputs": [
    {
     "data": {
      "text/plain": [
       "<matplotlib.axes._subplots.AxesSubplot at 0x1f1fef89048>"
      ]
     },
     "execution_count": 63,
     "metadata": {},
     "output_type": "execute_result"
    },
    {
     "data": {
      "image/png": "[encoded data removed]",
      "text/plain": [
       "<Figure size 432x288 with 1 Axes>"
      ]
     },
     "metadata": {
      "needs_background": "light"
     },
     "output_type": "display_data"
    }
   ],
   "source": [
    "df.age_of_company.hist()"
   ]
  },
  {
   "cell_type": "markdown",
   "metadata": {},
   "source": [
    "We will have to normalize the age_of_company since its not a normal distribution"
   ]
  },
  {
   "cell_type": "code",
   "execution_count": 64,
   "metadata": {},
   "outputs": [
    {
     "data": {
      "text/plain": [
       "<matplotlib.axes._subplots.AxesSubplot at 0x1f1fef62c08>"
      ]
     },
     "execution_count": 64,
     "metadata": {},
     "output_type": "execute_result"
    },
    {
     "data": {
      "image/png": "[encoded data removed]",
      "text/plain": [
       "<Figure size 432x288 with 1 Axes>"
      ]
     },
     "metadata": {
      "needs_background": "light"
     },
     "output_type": "display_data"
    }
   ],
   "source": [
    "df.desc_length.hist()"
   ]
  },
  {
   "cell_type": "code",
   "execution_count": 65,
   "metadata": {},
   "outputs": [
    {
     "data": {
      "text/plain": [
       "<matplotlib.axes._subplots.AxesSubplot at 0x1f1ff0753c8>"
      ]
     },
     "execution_count": 65,
     "metadata": {},
     "output_type": "execute_result"
    },
    {
     "data": {
      "image/png": "[encoded data removed]",
      "text/plain": [
       "<Figure size 432x288 with 1 Axes>"
      ]
     },
     "metadata": {
      "needs_background": "light"
     },
     "output_type": "display_data"
    }
   ],
   "source": [
    "df[['avg_salary']].boxplot()"
   ]
  },
  {
   "cell_type": "code",
   "execution_count": 67,
   "metadata": {},
   "outputs": [
    {
     "data": {
      "text/plain": [
       "<matplotlib.axes._subplots.AxesSubplot at 0x1f1ff19c088>"
      ]
     },
     "execution_count": 67,
     "metadata": {},
     "output_type": "execute_result"
    },
    {
     "data": {
      "image/png": "[encoded data removed]",
      "text/plain": [
       "<Figure size 432x288 with 1 Axes>"
      ]
     },
     "metadata": {
      "needs_background": "light"
     },
     "output_type": "display_data"
    }
   ],
   "source": [
    "df.boxplot(column=['min_salary','avg_salary','max_salary'])"
   ]
  },
  {
   "cell_type": "code",
   "execution_count": 70,
   "metadata": {},
   "outputs": [
    {
     "data": {
      "text/plain": [
       "Index(['Job Title', 'Salary Estimate', 'Job Description', 'Rating',\n",
       "       'Company Name', 'Location', 'Headquarters', 'Size', 'Founded',\n",
       "       'Type of ownership', 'Industry', 'Sector', 'Revenue', 'Competitors',\n",
       "       'hourly', 'min_salary', 'max_salary', 'avg_salary', 'company_txt',\n",
       "       'state', 'age_of_company', 'python_skill', 'sql_skill',\n",
       "       'r_studio_skill', 'spark_skill', 'excel_skill', 'aws_skill',\n",
       "       'azure_skill', 'gcp_skill', 'smpl_job_title', 'level', 'desc_length'],\n",
       "      dtype='object')"
      ]
     },
     "execution_count": 70,
     "metadata": {},
     "output_type": "execute_result"
    }
   ],
   "source": [
    "df.columns"
   ]
  },
  {
   "cell_type": "code",
   "execution_count": 72,
   "metadata": {},
   "outputs": [
    {
     "data": {
      "text/plain": [
       "<matplotlib.axes._subplots.AxesSubplot at 0x1f1ff398508>"
      ]
     },
     "execution_count": 72,
     "metadata": {},
     "output_type": "execute_result"
    },
    {
     "data": {
      "image/png": "[encoded data removed]",
      "text/plain": [
       "<Figure size 432x288 with 1 Axes>"
      ]
     },
     "metadata": {
      "needs_background": "light"
     },
     "output_type": "display_data"
    }
   ],
   "source": [
    "df.boxplot(column=['Rating'])"
   ]
  },
  {
   "cell_type": "code",
   "execution_count": 74,
   "metadata": {},
   "outputs": [
    {
     "data": {
      "text/plain": [
       "<matplotlib.axes._subplots.AxesSubplot at 0x1f1ff435148>"
      ]
     },
     "execution_count": 74,
     "metadata": {},
     "output_type": "execute_result"
    },
    {
     "data": {
      "image/png": "[encoded data removed]",
      "text/plain": [
       "<Figure size 432x288 with 1 Axes>"
      ]
     },
     "metadata": {
      "needs_background": "light"
     },
     "output_type": "display_data"
    }
   ],
   "source": [
    "df[['age_of_company']].boxplot()"
   ]
  },
  {
   "cell_type": "code",
   "execution_count": 77,
   "metadata": {},
   "outputs": [
    {
     "data": {
      "text/plain": [
       "<matplotlib.axes._subplots.AxesSubplot at 0x1f181029188>"
      ]
     },
     "execution_count": 77,
     "metadata": {},
     "output_type": "execute_result"
    },
    {
     "data": {
      "image/png": "[encoded data removed]",
      "text/plain": [
       "<Figure size 720x720 with 2 Axes>"
      ]
     },
     "metadata": {
      "needs_background": "light"
     },
     "output_type": "display_data"
    }
   ],
   "source": [
    "plt.figure(figsize=(10,10))\n",
    "sns.heatmap(df.corr())"
   ]
  },
  {
   "cell_type": "code",
   "execution_count": 110,
   "metadata": {},
   "outputs": [],
   "source": [
    "df_cat = df.select_dtypes(include=('object'))"
   ]
  },
  {
   "cell_type": "code",
   "execution_count": 111,
   "metadata": {},
   "outputs": [
    {
     "data": {
      "text/plain": [
       "Index(['Job Title', 'Salary Estimate', 'Job Description', 'Company Name',\n",
       "       'Location', 'Size', 'Type of ownership', 'Industry', 'Sector',\n",
       "       'Revenue', 'company_txt', 'state', 'smpl_job_title', 'level'],\n",
       "      dtype='object')"
      ]
     },
     "execution_count": 111,
     "metadata": {},
     "output_type": "execute_result"
    }
   ],
   "source": [
    "df_cat.columns"
   ]
  },
  {
   "cell_type": "code",
   "execution_count": 112,
   "metadata": {},
   "outputs": [],
   "source": [
    "df_cat.drop(['Job Title','Job Description','Company Name','company_txt'], axis=1, inplace=True)"
   ]
  },
  {
   "cell_type": "code",
   "execution_count": 96,
   "metadata": {},
   "outputs": [
    {
     "data": {
      "text/plain": [
       "Index(['Job Title', 'Salary Estimate', 'Job Description', 'Rating',\n",
       "       'Company Name', 'Location', 'Headquarters', 'Size', 'Founded',\n",
       "       'Type of ownership', 'Industry', 'Sector', 'Revenue', 'Competitors',\n",
       "       'hourly', 'min_salary', 'max_salary', 'avg_salary', 'company_txt',\n",
       "       'state', 'age_of_company', 'python_skill', 'sql_skill',\n",
       "       'r_studio_skill', 'spark_skill', 'excel_skill', 'aws_skill',\n",
       "       'azure_skill', 'gcp_skill', 'smpl_job_title', 'level', 'desc_length'],\n",
       "      dtype='object')"
      ]
     },
     "execution_count": 96,
     "metadata": {},
     "output_type": "execute_result"
    }
   ],
   "source": [
    "df.columns"
   ]
  },
  {
   "cell_type": "code",
   "execution_count": 97,
   "metadata": {},
   "outputs": [],
   "source": [
    "df_bin_cat = df[['python_skill', 'sql_skill',\n",
    "       'r_studio_skill', 'spark_skill', 'excel_skill', 'aws_skill',\n",
    "       'azure_skill', 'gcp_skill']]"
   ]
  },
  {
   "cell_type": "code",
   "execution_count": 113,
   "metadata": {},
   "outputs": [
    {
     "data": {
      "text/plain": [
       "(664, 10)"
      ]
     },
     "execution_count": 113,
     "metadata": {},
     "output_type": "execute_result"
    }
   ],
   "source": [
    "df_cat.shape"
   ]
  },
  {
   "cell_type": "code",
   "execution_count": 99,
   "metadata": {},
   "outputs": [
    {
     "data": {
      "text/plain": [
       "(664, 8)"
      ]
     },
     "execution_count": 99,
     "metadata": {},
     "output_type": "execute_result"
    }
   ],
   "source": [
    "df_bin_cat.shape"
   ]
  },
  {
   "cell_type": "code",
   "execution_count": 157,
   "metadata": {},
   "outputs": [],
   "source": [
    "def categorical_barplot(dtfr):\n",
    "    for col in dtfr.columns:\n",
    "        counts = dtfr[col].value_counts()\n",
    "        cats = counts.index\n",
    "    \n",
    "        if len(counts) > 20:\n",
    "            plt.figure(figsize=(15,10))\n",
    "            print(f'Graph for top 20 items from {col}. Total: {len(counts)}')\n",
    "            graph=sns.barplot(x=cats[:21], y=counts[:21])\n",
    "        else:\n",
    "            plt.figure(figsize=(10,7))\n",
    "            print(f'Graph for {col}. Total: {len(counts)}')\n",
    "            graph=sns.barplot(x=cats, y=counts)\n",
    "                \n",
    "        graph.set_xticklabels(graph.get_xticklabels(), rotation = 90)\n",
    "        plt.show()\n",
    "    "
   ]
  },
  {
   "cell_type": "code",
   "execution_count": 158,
   "metadata": {},
   "outputs": [
    {
     "name": "stdout",
     "output_type": "stream",
     "text": [
      "Graph for top 20 items from Salary Estimate. Total: 373\n"
     ]
    },
    {
     "data": {
      "image/png": "[encoded data removed]",
      "text/plain": [
       "<Figure size 1080x720 with 1 Axes>"
      ]
     },
     "metadata": {
      "needs_background": "light"
     },
     "output_type": "display_data"
    },
    {
     "name": "stdout",
     "output_type": "stream",
     "text": [
      "Graph for top 20 items from Location. Total: 185\n"
     ]
    },
    {
     "data": {
      "image/png": "[encoded data removed]",
      "text/plain": [
       "<Figure size 1080x720 with 1 Axes>"
      ]
     },
     "metadata": {
      "needs_background": "light"
     },
     "output_type": "display_data"
    },
    {
     "name": "stdout",
     "output_type": "stream",
     "text": [
      "Graph for Size. Total: 9\n"
     ]
    },
    {
     "data": {
      "image/png": "[encoded data removed]",
      "text/plain": [
       "<Figure size 720x504 with 1 Axes>"
      ]
     },
     "metadata": {
      "needs_background": "light"
     },
     "output_type": "display_data"
    },
    {
     "name": "stdout",
     "output_type": "stream",
     "text": [
      "Graph for Type of ownership. Total: 10\n"
     ]
    },
    {
     "data": {
      "image/png": "[encoded data removed]",
      "text/plain": [
       "<Figure size 720x504 with 1 Axes>"
      ]
     },
     "metadata": {
      "needs_background": "light"
     },
     "output_type": "display_data"
    },
    {
     "name": "stdout",
     "output_type": "stream",
     "text": [
      "Graph for top 20 items from Industry. Total: 63\n"
     ]
    },
    {
     "data": {
      "image/png": "[encoded data removed]",
      "text/plain": [
       "<Figure size 1080x720 with 1 Axes>"
      ]
     },
     "metadata": {
      "needs_background": "light"
     },
     "output_type": "display_data"
    },
    {
     "name": "stdout",
     "output_type": "stream",
     "text": [
      "Graph for top 20 items from Sector. Total: 23\n"
     ]
    },
    {
     "data": {
      "image/png": "[encoded data removed]",
      "text/plain": [
       "<Figure size 1080x720 with 1 Axes>"
      ]
     },
     "metadata": {
      "needs_background": "light"
     },
     "output_type": "display_data"
    },
    {
     "name": "stdout",
     "output_type": "stream",
     "text": [
      "Graph for Revenue. Total: 14\n"
     ]
    },
    {
     "data": {
      "image/png": "[encoded data removed]",
      "text/plain": [
       "<Figure size 720x504 with 1 Axes>"
      ]
     },
     "metadata": {
      "needs_background": "light"
     },
     "output_type": "display_data"
    },
    {
     "name": "stdout",
     "output_type": "stream",
     "text": [
      "Graph for top 20 items from state. Total: 37\n"
     ]
    },
    {
     "data": {
      "image/png": "[encoded data removed]",
      "text/plain": [
       "<Figure size 1080x720 with 1 Axes>"
      ]
     },
     "metadata": {
      "needs_background": "light"
     },
     "output_type": "display_data"
    },
    {
     "name": "stdout",
     "output_type": "stream",
     "text": [
      "Graph for smpl_job_title. Total: 9\n"
     ]
    },
    {
     "data": {
      "image/png": "[encoded data removed]",
      "text/plain": [
       "<Figure size 720x504 with 1 Axes>"
      ]
     },
     "metadata": {
      "needs_background": "light"
     },
     "output_type": "display_data"
    },
    {
     "name": "stdout",
     "output_type": "stream",
     "text": [
      "Graph for level. Total: 2\n"
     ]
    },
    {
     "data": {
      "image/png": "[encoded data removed]",
      "text/plain": [
       "<Figure size 720x504 with 1 Axes>"
      ]
     },
     "metadata": {
      "needs_background": "light"
     },
     "output_type": "display_data"
    }
   ],
   "source": [
    "categorical_barplot(df_cat)"
   ]
  },
  {
   "cell_type": "code",
   "execution_count": 159,
   "metadata": {},
   "outputs": [
    {
     "name": "stdout",
     "output_type": "stream",
     "text": [
      "Graph for python_skill. Total: 2\n"
     ]
    },
    {
     "data": {
      "image/png": "[encoded data removed]",
      "text/plain": [
       "<Figure size 720x504 with 1 Axes>"
      ]
     },
     "metadata": {
      "needs_background": "light"
     },
     "output_type": "display_data"
    },
    {
     "name": "stdout",
     "output_type": "stream",
     "text": [
      "Graph for sql_skill. Total: 2\n"
     ]
    },
    {
     "data": {
      "image/png": "[encoded data removed]",
      "text/plain": [
       "<Figure size 720x504 with 1 Axes>"
      ]
     },
     "metadata": {
      "needs_background": "light"
     },
     "output_type": "display_data"
    },
    {
     "name": "stdout",
     "output_type": "stream",
     "text": [
      "Graph for r_studio_skill. Total: 2\n"
     ]
    },
    {
     "data": {
      "image/png": "[encoded data removed]",
      "text/plain": [
       "<Figure size 720x504 with 1 Axes>"
      ]
     },
     "metadata": {
      "needs_background": "light"
     },
     "output_type": "display_data"
    },
    {
     "name": "stdout",
     "output_type": "stream",
     "text": [
      "Graph for spark_skill. Total: 2\n"
     ]
    },
    {
     "data": {
      "image/png": "[encoded data removed]",
      "text/plain": [
       "<Figure size 720x504 with 1 Axes>"
      ]
     },
     "metadata": {
      "needs_background": "light"
     },
     "output_type": "display_data"
    },
    {
     "name": "stdout",
     "output_type": "stream",
     "text": [
      "Graph for excel_skill. Total: 2\n"
     ]
    },
    {
     "data": {
      "image/png": "[encoded data removed]",
      "text/plain": [
       "<Figure size 720x504 with 1 Axes>"
      ]
     },
     "metadata": {
      "needs_background": "light"
     },
     "output_type": "display_data"
    },
    {
     "name": "stdout",
     "output_type": "stream",
     "text": [
      "Graph for aws_skill. Total: 2\n"
     ]
    },
    {
     "data": {
      "image/png": "[encoded data removed]",
      "text/plain": [
       "<Figure size 720x504 with 1 Axes>"
      ]
     },
     "metadata": {
      "needs_background": "light"
     },
     "output_type": "display_data"
    },
    {
     "name": "stdout",
     "output_type": "stream",
     "text": [
      "Graph for azure_skill. Total: 2\n"
     ]
    },
    {
     "data": {
      "image/png": "[encoded data removed]",
      "text/plain": [
       "<Figure size 720x504 with 1 Axes>"
      ]
     },
     "metadata": {
      "needs_background": "light"
     },
     "output_type": "display_data"
    },
    {
     "name": "stdout",
     "output_type": "stream",
     "text": [
      "Graph for gcp_skill. Total: 2\n"
     ]
    },
    {
     "data": {
      "image/png": "[encoded data removed]",
      "text/plain": [
       "<Figure size 720x504 with 1 Axes>"
      ]
     },
     "metadata": {
      "needs_background": "light"
     },
     "output_type": "display_data"
    }
   ],
   "source": [
    "categorical_barplot(df_bin_cat)\n",
    "    "
   ]
  },
  {
   "cell_type": "code",
   "execution_count": null,
   "metadata": {},
   "outputs": [],
   "source": []
  }
 ],
 "metadata": {
  "kernelspec": {
   "display_name": "Python 3",
   "language": "python",
   "name": "python3"
  },
  "language_info": {
   "codemirror_mode": {
    "name": "ipython",
    "version": 3
   },
   "file_extension": ".py",
   "mimetype": "text/x-python",
   "name": "python",
   "nbconvert_exporter": "python",
   "pygments_lexer": "ipython3",
   "version": "3.7.6"
  }
 },
 "nbformat": 4,
 "nbformat_minor": 4
}
